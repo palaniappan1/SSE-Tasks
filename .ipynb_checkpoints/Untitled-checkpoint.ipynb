{
 "cells": [
  {
   "cell_type": "markdown",
   "id": "182acc68",
   "metadata": {},
   "source": [
    "## CrySL Specifications "
   ]
  },
  {
   "cell_type": "markdown",
   "id": "45da65ba",
   "metadata": {},
   "source": [
    "## Java API Signature"
   ]
  },
  {
   "cell_type": "markdown",
   "id": "1bbc584c",
   "metadata": {},
   "source": [
    "The sample program for the Java API Signature (https://docs.oracle.com/javase/8/docs/api/java/security/Signature.html)"
   ]
  },
  {
   "cell_type": "markdown",
   "id": "9117049a",
   "metadata": {},
   "source": [
    "Here I used the SHA256withRSA algorithm, we can also use SHA1withDSA and SHA1withRSA\n",
    "\n",
    "```\n",
    "Sigature signature = Signature.getInstance(\"SHA256withRSA\");\n",
    "\n",
    "KeyPairGenerator keyGen = KeyPairGenerator.getInstance(\"RSA\");\n",
    "keyGen.initialize(2048);\n",
    "KeyPair keypair = keyGen.generateKeyPair();\n",
    "\n",
    "signature.initSign(keypair.getPrivate())\n",
    "\n",
    "byte[] data = \"CrySL Specifications!\".getBytes();\n",
    "signature.update(data);\n",
    "byte[] signatureBytes = signature.sign();\n",
    "\n",
    "signature.initVerify(keyPair.getPublic());\n",
    "signature.update(data);\n",
    "boolean verified = signature.verify(signatureBytes);\n",
    "```"
   ]
  },
  {
   "cell_type": "markdown",
   "id": "5f284ad0",
   "metadata": {},
   "source": [
    "Steps happening above:\n",
    "1. Getting the signature instance with SHA256withRSA Algorithm\n",
    "2. Creating a key pair(public,private keys), with the keysize of 20-48 bits, which is considered to be strong enough in RSA Alogrithm\n",
    "3. A private key initializes the signature for signing.\n",
    "4. Writing and updating some data (here the data is CrySL Specifications!)\n",
    "5. Storing the signed bytes in signatureBytes.\n",
    "6. Initialize verify using PublicKey and update the data again.\n",
    "7. Now verify the signature comparing with signatureBytes."
   ]
  },
  {
   "cell_type": "markdown",
   "id": "4406211d",
   "metadata": {},
   "source": [
    "ORDER OF EXECUTION:\n",
    "\n",
    "Signature Instance <-> KeyPairGenerator Instance -> initSign (using Private Key) -> update Data -> init Verify (using Public Key) -> Verify the signature"
   ]
  },
  {
   "cell_type": "markdown",
   "id": "562ef0d3",
   "metadata": {},
   "source": [
    "The Assumptions I made is\n",
    "1. There are only one parameter for the getInstanceMethods() and initialize() so using only algorithm names | keysize.\n",
    "2. The signature alogrithm can be of SHA256withRSA or SHA1withDSA or SHA1withRSA and the keysize can be of 2048 or 1024 in all 3 algorithm cases"
   ]
  },
  {
   "cell_type": "markdown",
   "id": "5b347010",
   "metadata": {},
   "source": [
    "## Specification "
   ]
  },
  {
   "cell_type": "markdown",
   "id": "0004e26c",
   "metadata": {},
   "source": [
    "```\n",
    "SPEC java.security.Signature\n",
    "\n",
    "OBJECTS\n",
    "    java.lang.String signatureAlgorithm;\n",
    "    java.lang.String keyalgorithm;\n",
    "    int keySize;\n",
    "    java.lang.Object keypair; (https://docs.oracle.com/javase/7/docs/api/java/security/KeyPair.html)\n",
    "    java.lang.String data;\n",
    "    java.security.KeyPairGenerator keyGen;\n",
    "\n",
    "EVENTS:\n",
    "    g1: getInstance(signatureAlgorithm)\n",
    "    g2: getInstance(keyAlgorithm)\n",
    "    GetInstance:= g1 | g2; ## Because both events are mutually exclusive, so order does not matter\n",
    "    \n",
    "    i1: init(keySize);\n",
    "    i2: initSign(keypair.privekey) ## Don't know this is the correct way\n",
    "    InitSign:= i1,i2; ## we need i1 to be done before i2, because we need the private key to do i2\n",
    "    \n",
    "    u1: update(data);\n",
    "    UpdateSign:= u1;\n",
    "    \n",
    "    i3: initVerify(keyPair.publicKey);\n",
    "    InitVerify:= i3;\n",
    "    \n",
    "    u2: = update(data);\n",
    "    UpdateVerify:= u2;\n",
    "    \n",
    "    v1:= .......;\n",
    "    SignatureVerify:= v1;\n",
    "    \n",
    "ORDER:\n",
    "    GetInstance, InitSign, UpdateSign, InitVerify, UpdateVerify,  SignatureVerify\n",
    "    \n",
    "CONSTRAINTS:\n",
    "    signaturealgorithm in {\"SHA256withRSA\",\"SHA1withDSA\",\"SHA1withRSA\"} => keySize in {1024,2048};\n",
    "    \n",
    "    \n",
    "ENSURES:\n",
    "    verify(signature) ## Ensures the verification of digital signature.\n",
    "```\n",
    "    "
   ]
  },
  {
   "cell_type": "markdown",
   "id": "e32b4db4",
   "metadata": {},
   "source": [
    "Thins I'm not sure:\n",
    "1. Representation of using the privatekey from the object KeyPair."
   ]
  },
  {
   "cell_type": "markdown",
   "id": "9c8a02ab",
   "metadata": {},
   "source": [
    "## SecureRandom"
   ]
  },
  {
   "cell_type": "markdown",
   "id": "9833bdaf",
   "metadata": {},
   "source": [
    "SecureRandom is a class that provides a cryptographically strong random number generator (RNG). Those generated sequence of random numbers are used then in the cryptographic applications for example:- Generating Encryption Keys.\n",
    "It uses a seed to generate the sequence of pseudorandom numbers."
   ]
  },
  {
   "cell_type": "markdown",
   "id": "389425fa",
   "metadata": {},
   "source": [
    "```\n",
    "SecureRandom secureRandom = new SecureRandom()\n",
    "byte[] randomBytes = new byte[16];\n",
    "secureRandom.nextBytes(randomBytes);\n",
    "```"
   ]
  },
  {
   "cell_type": "markdown",
   "id": "0b8eb47e",
   "metadata": {},
   "source": [
    "As a result of the above program, a 16 byte array will be filled with random values."
   ]
  },
  {
   "cell_type": "markdown",
   "id": "e9df6299",
   "metadata": {},
   "source": [
    "## Specification"
   ]
  },
  {
   "cell_type": "markdown",
   "id": "32906a66",
   "metadata": {},
   "source": [
    "```\n",
    "SPEC java.security.SecureRandom\n",
    "\n",
    "OBJECTS:\n",
    "    byte[] randomBytes;\n",
    "EVENTS:\n",
    "    e1: SecureRandom()\n",
    "    e2: nextBytes() ## Generates a user-specified number of random bytes.\n",
    "FORBIDDEN:\n",
    "    SecureRandom.setSeed(long seed) ## It weakens the security of the generated random numbers, if the seed is known to the attacker.\n",
    "    \n",
    "ORDER:\n",
    "    e1,e2\n",
    "```"
   ]
  },
  {
   "cell_type": "code",
   "execution_count": null,
   "id": "f9d83e17",
   "metadata": {},
   "outputs": [],
   "source": []
  }
 ],
 "metadata": {
  "kernelspec": {
   "display_name": "Python 3 (ipykernel)",
   "language": "python",
   "name": "python3"
  },
  "language_info": {
   "codemirror_mode": {
    "name": "ipython",
    "version": 3
   },
   "file_extension": ".py",
   "mimetype": "text/x-python",
   "name": "python",
   "nbconvert_exporter": "python",
   "pygments_lexer": "ipython3",
   "version": "3.9.13"
  }
 },
 "nbformat": 4,
 "nbformat_minor": 5
}
